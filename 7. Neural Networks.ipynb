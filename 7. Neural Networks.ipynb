{
 "cells": [
  {
   "cell_type": "markdown",
   "id": "c0247e52",
   "metadata": {},
   "source": [
    "<h3><b>Neural Networks</b></h3> "
   ]
  },
  {
   "cell_type": "code",
   "execution_count": 1,
   "id": "99ff38e3",
   "metadata": {},
   "outputs": [],
   "source": [
    "import numpy as np\n",
    "import pandas as pd \n",
    "import seaborn as sb \n",
    "import matplotlib.pyplot as plt # ony pyplot required\n",
    "sb.set() #seaborn style for graphics\n"
   ]
  },
  {
   "cell_type": "code",
   "execution_count": 2,
   "id": "5d085caf",
   "metadata": {},
   "outputs": [],
   "source": [
    "skew_corrected_final_data = pd.read_csv(\"Assets/skew_Corrected_Final_data.csv\")"
   ]
  },
  {
   "cell_type": "code",
   "execution_count": 3,
   "id": "81a4525a",
   "metadata": {},
   "outputs": [],
   "source": [
    "# Extract Response and Predictors\n",
    "y = pd.DataFrame(skew_corrected_final_data[\"price(USD)\"])\n",
    "X = pd.DataFrame(skew_corrected_final_data[[\"averageDifficulty\",\"cumulative total number of coins\",\"activeAddresses\", \"Daily Hash Rate(Trillions of hashes/s)\"]])"
   ]
  },
  {
   "cell_type": "code",
   "execution_count": 14,
   "id": "fee82ff6",
   "metadata": {},
   "outputs": [
    {
     "data": {
      "text/html": [
       "<div>\n",
       "<style scoped>\n",
       "    .dataframe tbody tr th:only-of-type {\n",
       "        vertical-align: middle;\n",
       "    }\n",
       "\n",
       "    .dataframe tbody tr th {\n",
       "        vertical-align: top;\n",
       "    }\n",
       "\n",
       "    .dataframe thead th {\n",
       "        text-align: right;\n",
       "    }\n",
       "</style>\n",
       "<table border=\"1\" class=\"dataframe\">\n",
       "  <thead>\n",
       "    <tr style=\"text-align: right;\">\n",
       "      <th></th>\n",
       "      <th>averageDifficulty</th>\n",
       "      <th>cumulative total number of coins</th>\n",
       "      <th>activeAddresses</th>\n",
       "      <th>Daily Hash Rate(Trillions of hashes/s)</th>\n",
       "    </tr>\n",
       "  </thead>\n",
       "  <tbody>\n",
       "    <tr>\n",
       "      <th>0</th>\n",
       "      <td>16.125696</td>\n",
       "      <td>11102989.80</td>\n",
       "      <td>83564</td>\n",
       "      <td>4.278455</td>\n",
       "    </tr>\n",
       "    <tr>\n",
       "      <th>1</th>\n",
       "      <td>16.125696</td>\n",
       "      <td>11106339.80</td>\n",
       "      <td>81920</td>\n",
       "      <td>4.299074</td>\n",
       "    </tr>\n",
       "    <tr>\n",
       "      <th>2</th>\n",
       "      <td>16.125696</td>\n",
       "      <td>11109764.80</td>\n",
       "      <td>82804</td>\n",
       "      <td>4.299074</td>\n",
       "    </tr>\n",
       "    <tr>\n",
       "      <th>3</th>\n",
       "      <td>16.125696</td>\n",
       "      <td>11113739.80</td>\n",
       "      <td>69959</td>\n",
       "      <td>4.345594</td>\n",
       "    </tr>\n",
       "    <tr>\n",
       "      <th>4</th>\n",
       "      <td>16.125696</td>\n",
       "      <td>11117864.80</td>\n",
       "      <td>72103</td>\n",
       "      <td>4.402392</td>\n",
       "    </tr>\n",
       "    <tr>\n",
       "      <th>...</th>\n",
       "      <td>...</td>\n",
       "      <td>...</td>\n",
       "      <td>...</td>\n",
       "      <td>...</td>\n",
       "    </tr>\n",
       "    <tr>\n",
       "      <th>2005</th>\n",
       "      <td>29.602320</td>\n",
       "      <td>17330008.54</td>\n",
       "      <td>580054</td>\n",
       "      <td>17.698318</td>\n",
       "    </tr>\n",
       "    <tr>\n",
       "      <th>2006</th>\n",
       "      <td>29.602320</td>\n",
       "      <td>17331758.54</td>\n",
       "      <td>560480</td>\n",
       "      <td>17.727306</td>\n",
       "    </tr>\n",
       "    <tr>\n",
       "      <th>2007</th>\n",
       "      <td>29.602320</td>\n",
       "      <td>17333583.54</td>\n",
       "      <td>708285</td>\n",
       "      <td>17.769270</td>\n",
       "    </tr>\n",
       "    <tr>\n",
       "      <th>2008</th>\n",
       "      <td>29.602320</td>\n",
       "      <td>17335508.54</td>\n",
       "      <td>697601</td>\n",
       "      <td>17.822616</td>\n",
       "    </tr>\n",
       "    <tr>\n",
       "      <th>2009</th>\n",
       "      <td>29.602320</td>\n",
       "      <td>17337546.04</td>\n",
       "      <td>707291</td>\n",
       "      <td>17.879414</td>\n",
       "    </tr>\n",
       "  </tbody>\n",
       "</table>\n",
       "<p>2010 rows × 4 columns</p>\n",
       "</div>"
      ],
      "text/plain": [
       "      averageDifficulty  cumulative total number of coins  activeAddresses  \\\n",
       "0             16.125696                       11102989.80            83564   \n",
       "1             16.125696                       11106339.80            81920   \n",
       "2             16.125696                       11109764.80            82804   \n",
       "3             16.125696                       11113739.80            69959   \n",
       "4             16.125696                       11117864.80            72103   \n",
       "...                 ...                               ...              ...   \n",
       "2005          29.602320                       17330008.54           580054   \n",
       "2006          29.602320                       17331758.54           560480   \n",
       "2007          29.602320                       17333583.54           708285   \n",
       "2008          29.602320                       17335508.54           697601   \n",
       "2009          29.602320                       17337546.04           707291   \n",
       "\n",
       "      Daily Hash Rate(Trillions of hashes/s)  \n",
       "0                                   4.278455  \n",
       "1                                   4.299074  \n",
       "2                                   4.299074  \n",
       "3                                   4.345594  \n",
       "4                                   4.402392  \n",
       "...                                      ...  \n",
       "2005                               17.698318  \n",
       "2006                               17.727306  \n",
       "2007                               17.769270  \n",
       "2008                               17.822616  \n",
       "2009                               17.879414  \n",
       "\n",
       "[2010 rows x 4 columns]"
      ]
     },
     "execution_count": 14,
     "metadata": {},
     "output_type": "execute_result"
    }
   ],
   "source": [
    "X"
   ]
  },
  {
   "cell_type": "code",
   "execution_count": 15,
   "id": "3dbf26f7",
   "metadata": {},
   "outputs": [
    {
     "data": {
      "text/html": [
       "<div>\n",
       "<style scoped>\n",
       "    .dataframe tbody tr th:only-of-type {\n",
       "        vertical-align: middle;\n",
       "    }\n",
       "\n",
       "    .dataframe tbody tr th {\n",
       "        vertical-align: top;\n",
       "    }\n",
       "\n",
       "    .dataframe thead th {\n",
       "        text-align: right;\n",
       "    }\n",
       "</style>\n",
       "<table border=\"1\" class=\"dataframe\">\n",
       "  <thead>\n",
       "    <tr style=\"text-align: right;\">\n",
       "      <th></th>\n",
       "      <th>price(USD)</th>\n",
       "    </tr>\n",
       "  </thead>\n",
       "  <tbody>\n",
       "    <tr>\n",
       "      <th>0</th>\n",
       "      <td>4.934474</td>\n",
       "    </tr>\n",
       "    <tr>\n",
       "      <th>1</th>\n",
       "      <td>4.756861</td>\n",
       "    </tr>\n",
       "    <tr>\n",
       "      <th>2</th>\n",
       "      <td>4.665795</td>\n",
       "    </tr>\n",
       "    <tr>\n",
       "      <th>3</th>\n",
       "      <td>4.585987</td>\n",
       "    </tr>\n",
       "    <tr>\n",
       "      <th>4</th>\n",
       "      <td>4.726502</td>\n",
       "    </tr>\n",
       "    <tr>\n",
       "      <th>...</th>\n",
       "      <td>...</td>\n",
       "    </tr>\n",
       "    <tr>\n",
       "      <th>2005</th>\n",
       "      <td>8.776605</td>\n",
       "    </tr>\n",
       "    <tr>\n",
       "      <th>2006</th>\n",
       "      <td>8.776886</td>\n",
       "    </tr>\n",
       "    <tr>\n",
       "      <th>2007</th>\n",
       "      <td>8.778380</td>\n",
       "    </tr>\n",
       "    <tr>\n",
       "      <th>2008</th>\n",
       "      <td>8.754167</td>\n",
       "    </tr>\n",
       "    <tr>\n",
       "      <th>2009</th>\n",
       "      <td>8.754159</td>\n",
       "    </tr>\n",
       "  </tbody>\n",
       "</table>\n",
       "<p>2010 rows × 1 columns</p>\n",
       "</div>"
      ],
      "text/plain": [
       "      price(USD)\n",
       "0       4.934474\n",
       "1       4.756861\n",
       "2       4.665795\n",
       "3       4.585987\n",
       "4       4.726502\n",
       "...          ...\n",
       "2005    8.776605\n",
       "2006    8.776886\n",
       "2007    8.778380\n",
       "2008    8.754167\n",
       "2009    8.754159\n",
       "\n",
       "[2010 rows x 1 columns]"
      ]
     },
     "execution_count": 15,
     "metadata": {},
     "output_type": "execute_result"
    }
   ],
   "source": [
    "y"
   ]
  },
  {
   "cell_type": "code",
   "execution_count": 16,
   "id": "9e92dec1",
   "metadata": {},
   "outputs": [
    {
     "name": "stdout",
     "output_type": "stream",
     "text": [
      "Train Set : (1608, 1) (1608, 4)\n",
      "Test Set  : (402, 1) (402, 4)\n"
     ]
    }
   ],
   "source": [
    "# Import train_test_split from sklearn\n",
    "from sklearn.model_selection import train_test_split\n",
    "\n",
    "# Split the Dataset into Train and Test\n",
    "X_train, X_test, y_train, y_test = train_test_split(X, y, test_size = 0.20)\n",
    "\n",
    "# Check the sample sizes\n",
    "print(\"Train Set :\", y_train.shape, X_train.shape)\n",
    "print(\"Test Set  :\", y_test.shape, X_test.shape)"
   ]
  },
  {
   "cell_type": "code",
   "execution_count": 17,
   "id": "58374999",
   "metadata": {},
   "outputs": [
    {
     "data": {
      "text/html": [
       "<div>\n",
       "<style scoped>\n",
       "    .dataframe tbody tr th:only-of-type {\n",
       "        vertical-align: middle;\n",
       "    }\n",
       "\n",
       "    .dataframe tbody tr th {\n",
       "        vertical-align: top;\n",
       "    }\n",
       "\n",
       "    .dataframe thead th {\n",
       "        text-align: right;\n",
       "    }\n",
       "</style>\n",
       "<table border=\"1\" class=\"dataframe\">\n",
       "  <thead>\n",
       "    <tr style=\"text-align: right;\">\n",
       "      <th></th>\n",
       "      <th>price(USD)</th>\n",
       "    </tr>\n",
       "  </thead>\n",
       "  <tbody>\n",
       "    <tr>\n",
       "      <th>1358</th>\n",
       "      <td>6.812752</td>\n",
       "    </tr>\n",
       "    <tr>\n",
       "      <th>1480</th>\n",
       "      <td>7.592991</td>\n",
       "    </tr>\n",
       "    <tr>\n",
       "      <th>668</th>\n",
       "      <td>5.535443</td>\n",
       "    </tr>\n",
       "    <tr>\n",
       "      <th>593</th>\n",
       "      <td>5.861811</td>\n",
       "    </tr>\n",
       "    <tr>\n",
       "      <th>1558</th>\n",
       "      <td>8.088749</td>\n",
       "    </tr>\n",
       "    <tr>\n",
       "      <th>...</th>\n",
       "      <td>...</td>\n",
       "    </tr>\n",
       "    <tr>\n",
       "      <th>892</th>\n",
       "      <td>5.496102</td>\n",
       "    </tr>\n",
       "    <tr>\n",
       "      <th>1753</th>\n",
       "      <td>9.230878</td>\n",
       "    </tr>\n",
       "    <tr>\n",
       "      <th>916</th>\n",
       "      <td>5.891285</td>\n",
       "    </tr>\n",
       "    <tr>\n",
       "      <th>805</th>\n",
       "      <td>5.663134</td>\n",
       "    </tr>\n",
       "    <tr>\n",
       "      <th>1418</th>\n",
       "      <td>6.884210</td>\n",
       "    </tr>\n",
       "  </tbody>\n",
       "</table>\n",
       "<p>402 rows × 1 columns</p>\n",
       "</div>"
      ],
      "text/plain": [
       "      price(USD)\n",
       "1358    6.812752\n",
       "1480    7.592991\n",
       "668     5.535443\n",
       "593     5.861811\n",
       "1558    8.088749\n",
       "...          ...\n",
       "892     5.496102\n",
       "1753    9.230878\n",
       "916     5.891285\n",
       "805     5.663134\n",
       "1418    6.884210\n",
       "\n",
       "[402 rows x 1 columns]"
      ]
     },
     "execution_count": 17,
     "metadata": {},
     "output_type": "execute_result"
    }
   ],
   "source": [
    "y_train\n",
    "y_test"
   ]
  },
  {
   "cell_type": "code",
   "execution_count": 18,
   "id": "ec677aac",
   "metadata": {},
   "outputs": [
    {
     "data": {
      "text/html": [
       "<div>\n",
       "<style scoped>\n",
       "    .dataframe tbody tr th:only-of-type {\n",
       "        vertical-align: middle;\n",
       "    }\n",
       "\n",
       "    .dataframe tbody tr th {\n",
       "        vertical-align: top;\n",
       "    }\n",
       "\n",
       "    .dataframe thead th {\n",
       "        text-align: right;\n",
       "    }\n",
       "</style>\n",
       "<table border=\"1\" class=\"dataframe\">\n",
       "  <thead>\n",
       "    <tr style=\"text-align: right;\">\n",
       "      <th></th>\n",
       "      <th>averageDifficulty</th>\n",
       "      <th>cumulative total number of coins</th>\n",
       "      <th>activeAddresses</th>\n",
       "      <th>Daily Hash Rate(Trillions of hashes/s)</th>\n",
       "    </tr>\n",
       "  </thead>\n",
       "  <tbody>\n",
       "    <tr>\n",
       "      <th>54</th>\n",
       "      <td>16.777648</td>\n",
       "      <td>11329114.8</td>\n",
       "      <td>64862</td>\n",
       "      <td>4.957806</td>\n",
       "    </tr>\n",
       "    <tr>\n",
       "      <th>1462</th>\n",
       "      <td>26.980933</td>\n",
       "      <td>16307064.8</td>\n",
       "      <td>787411</td>\n",
       "      <td>15.226425</td>\n",
       "    </tr>\n",
       "    <tr>\n",
       "      <th>1689</th>\n",
       "      <td>28.094755</td>\n",
       "      <td>16743739.8</td>\n",
       "      <td>1179829</td>\n",
       "      <td>16.408164</td>\n",
       "    </tr>\n",
       "    <tr>\n",
       "      <th>1485</th>\n",
       "      <td>27.113507</td>\n",
       "      <td>16351614.8</td>\n",
       "      <td>842960</td>\n",
       "      <td>15.390071</td>\n",
       "    </tr>\n",
       "    <tr>\n",
       "      <th>1419</th>\n",
       "      <td>26.888684</td>\n",
       "      <td>16227139.8</td>\n",
       "      <td>651290</td>\n",
       "      <td>14.983665</td>\n",
       "    </tr>\n",
       "    <tr>\n",
       "      <th>...</th>\n",
       "      <td>...</td>\n",
       "      <td>...</td>\n",
       "      <td>...</td>\n",
       "      <td>...</td>\n",
       "    </tr>\n",
       "    <tr>\n",
       "      <th>44</th>\n",
       "      <td>16.563142</td>\n",
       "      <td>11289314.8</td>\n",
       "      <td>75762</td>\n",
       "      <td>4.893583</td>\n",
       "    </tr>\n",
       "    <tr>\n",
       "      <th>1252</th>\n",
       "      <td>26.208063</td>\n",
       "      <td>15910977.3</td>\n",
       "      <td>600999</td>\n",
       "      <td>14.454546</td>\n",
       "    </tr>\n",
       "    <tr>\n",
       "      <th>15</th>\n",
       "      <td>16.230286</td>\n",
       "      <td>11162914.8</td>\n",
       "      <td>84113</td>\n",
       "      <td>4.494636</td>\n",
       "    </tr>\n",
       "    <tr>\n",
       "      <th>1749</th>\n",
       "      <td>28.685333</td>\n",
       "      <td>16863152.3</td>\n",
       "      <td>852830</td>\n",
       "      <td>16.969773</td>\n",
       "    </tr>\n",
       "    <tr>\n",
       "      <th>903</th>\n",
       "      <td>24.832233</td>\n",
       "      <td>14748689.8</td>\n",
       "      <td>356706</td>\n",
       "      <td>12.991913</td>\n",
       "    </tr>\n",
       "  </tbody>\n",
       "</table>\n",
       "<p>1608 rows × 4 columns</p>\n",
       "</div>"
      ],
      "text/plain": [
       "      averageDifficulty  cumulative total number of coins  activeAddresses  \\\n",
       "54            16.777648                        11329114.8            64862   \n",
       "1462          26.980933                        16307064.8           787411   \n",
       "1689          28.094755                        16743739.8          1179829   \n",
       "1485          27.113507                        16351614.8           842960   \n",
       "1419          26.888684                        16227139.8           651290   \n",
       "...                 ...                               ...              ...   \n",
       "44            16.563142                        11289314.8            75762   \n",
       "1252          26.208063                        15910977.3           600999   \n",
       "15            16.230286                        11162914.8            84113   \n",
       "1749          28.685333                        16863152.3           852830   \n",
       "903           24.832233                        14748689.8           356706   \n",
       "\n",
       "      Daily Hash Rate(Trillions of hashes/s)  \n",
       "54                                  4.957806  \n",
       "1462                               15.226425  \n",
       "1689                               16.408164  \n",
       "1485                               15.390071  \n",
       "1419                               14.983665  \n",
       "...                                      ...  \n",
       "44                                  4.893583  \n",
       "1252                               14.454546  \n",
       "15                                  4.494636  \n",
       "1749                               16.969773  \n",
       "903                                12.991913  \n",
       "\n",
       "[1608 rows x 4 columns]"
      ]
     },
     "execution_count": 18,
     "metadata": {},
     "output_type": "execute_result"
    }
   ],
   "source": [
    "X_train"
   ]
  },
  {
   "cell_type": "code",
   "execution_count": 19,
   "id": "e5f441c6",
   "metadata": {},
   "outputs": [
    {
     "data": {
      "text/html": [
       "<div>\n",
       "<style scoped>\n",
       "    .dataframe tbody tr th:only-of-type {\n",
       "        vertical-align: middle;\n",
       "    }\n",
       "\n",
       "    .dataframe tbody tr th {\n",
       "        vertical-align: top;\n",
       "    }\n",
       "\n",
       "    .dataframe thead th {\n",
       "        text-align: right;\n",
       "    }\n",
       "</style>\n",
       "<table border=\"1\" class=\"dataframe\">\n",
       "  <thead>\n",
       "    <tr style=\"text-align: right;\">\n",
       "      <th></th>\n",
       "      <th>averageDifficulty</th>\n",
       "      <th>cumulative total number of coins</th>\n",
       "      <th>activeAddresses</th>\n",
       "      <th>Daily Hash Rate(Trillions of hashes/s)</th>\n",
       "    </tr>\n",
       "  </thead>\n",
       "  <tbody>\n",
       "    <tr>\n",
       "      <th>count</th>\n",
       "      <td>1608.000000</td>\n",
       "      <td>1.608000e+03</td>\n",
       "      <td>1.608000e+03</td>\n",
       "      <td>1608.000000</td>\n",
       "    </tr>\n",
       "    <tr>\n",
       "      <th>mean</th>\n",
       "      <td>24.984330</td>\n",
       "      <td>1.476566e+07</td>\n",
       "      <td>4.297702e+05</td>\n",
       "      <td>13.219041</td>\n",
       "    </tr>\n",
       "    <tr>\n",
       "      <th>std</th>\n",
       "      <td>3.267952</td>\n",
       "      <td>1.846588e+06</td>\n",
       "      <td>2.622506e+05</td>\n",
       "      <td>3.216334</td>\n",
       "    </tr>\n",
       "    <tr>\n",
       "      <th>min</th>\n",
       "      <td>16.125696</td>\n",
       "      <td>1.110299e+07</td>\n",
       "      <td>4.878500e+04</td>\n",
       "      <td>4.278455</td>\n",
       "    </tr>\n",
       "    <tr>\n",
       "      <th>25%</th>\n",
       "      <td>24.034853</td>\n",
       "      <td>1.323108e+07</td>\n",
       "      <td>1.911515e+05</td>\n",
       "      <td>12.274116</td>\n",
       "    </tr>\n",
       "    <tr>\n",
       "      <th>50%</th>\n",
       "      <td>25.450654</td>\n",
       "      <td>1.510148e+07</td>\n",
       "      <td>4.339850e+05</td>\n",
       "      <td>13.715430</td>\n",
       "    </tr>\n",
       "    <tr>\n",
       "      <th>75%</th>\n",
       "      <td>27.243887</td>\n",
       "      <td>1.638804e+07</td>\n",
       "      <td>6.322188e+05</td>\n",
       "      <td>15.417755</td>\n",
       "    </tr>\n",
       "    <tr>\n",
       "      <th>max</th>\n",
       "      <td>29.639235</td>\n",
       "      <td>1.738886e+07</td>\n",
       "      <td>1.261348e+06</td>\n",
       "      <td>17.911346</td>\n",
       "    </tr>\n",
       "  </tbody>\n",
       "</table>\n",
       "</div>"
      ],
      "text/plain": [
       "       averageDifficulty  cumulative total number of coins  activeAddresses  \\\n",
       "count        1608.000000                      1.608000e+03     1.608000e+03   \n",
       "mean           24.984330                      1.476566e+07     4.297702e+05   \n",
       "std             3.267952                      1.846588e+06     2.622506e+05   \n",
       "min            16.125696                      1.110299e+07     4.878500e+04   \n",
       "25%            24.034853                      1.323108e+07     1.911515e+05   \n",
       "50%            25.450654                      1.510148e+07     4.339850e+05   \n",
       "75%            27.243887                      1.638804e+07     6.322188e+05   \n",
       "max            29.639235                      1.738886e+07     1.261348e+06   \n",
       "\n",
       "       Daily Hash Rate(Trillions of hashes/s)  \n",
       "count                             1608.000000  \n",
       "mean                                13.219041  \n",
       "std                                  3.216334  \n",
       "min                                  4.278455  \n",
       "25%                                 12.274116  \n",
       "50%                                 13.715430  \n",
       "75%                                 15.417755  \n",
       "max                                 17.911346  "
      ]
     },
     "execution_count": 19,
     "metadata": {},
     "output_type": "execute_result"
    }
   ],
   "source": [
    "X_train.describe()"
   ]
  },
  {
   "cell_type": "markdown",
   "id": "ab69ccdd",
   "metadata": {},
   "source": [
    "<p><b>From the above data, we notice that the inpendent variables we are using to predict the price have quite a huge range of values between each other, with the range of around 10^7, hence this cause a hindrance in our ml model.</b></p>\n",
    "<p><b>Hence we peform scaling to tackle this possible issue.</b></p>"
   ]
  },
  {
   "cell_type": "code",
   "execution_count": 20,
   "id": "b7ac7753",
   "metadata": {},
   "outputs": [],
   "source": [
    "from sklearn.preprocessing import StandardScaler\n",
    "\n",
    "scaler = StandardScaler()\n",
    "train_scaled = scaler.fit_transform(X_train)\n",
    "test_scaled = scaler.transform(X_test)\n"
   ]
  },
  {
   "cell_type": "code",
   "execution_count": 21,
   "id": "6077b192",
   "metadata": {},
   "outputs": [
    {
     "name": "stdout",
     "output_type": "stream",
     "text": [
      "[[-2.51204305 -1.86160478 -1.39188133 -2.56932433]\n",
      " [ 0.61115474  0.83498934  1.3641614   0.62431598]\n",
      " [ 0.95209251  1.07153958  2.86097445  0.99184801]\n",
      " ...\n",
      " [-2.67958898 -1.95163661 -1.3184516  -2.71337458]\n",
      " [ 1.13286682  1.13622625  1.61369127  1.16651389]\n",
      " [-0.04655645 -0.00919448 -0.27869103 -0.07063908]]\n"
     ]
    }
   ],
   "source": [
    "print (train_scaled)"
   ]
  },
  {
   "cell_type": "code",
   "execution_count": 22,
   "id": "14245b41",
   "metadata": {},
   "outputs": [
    {
     "name": "stdout",
     "output_type": "stream",
     "text": [
      "[[ 0.47721128  0.72854377  0.83993469  0.47405226]\n",
      " [ 0.63266395  0.85385431  1.60962138  0.65965181]\n",
      " [-0.12784302 -0.47429122 -0.56176797 -0.17545462]\n",
      " ...\n",
      " [-0.03974427  0.01757942  0.07284555 -0.03701388]\n",
      " [-0.1003211  -0.20496767 -0.58925787 -0.14519573]\n",
      " [ 0.58291735  0.79077245  0.9372574   0.61080955]]\n"
     ]
    }
   ],
   "source": [
    "print(test_scaled)"
   ]
  },
  {
   "cell_type": "markdown",
   "id": "633ee059",
   "metadata": {},
   "source": [
    "<p><b>The target variable does not need to be scaled as these scaled values will also be able to predict the target variable, the only difference in the model will the individual weights each parameter gets</b></p>\n",
    "\n",
    "<p><b>We will further explore how scaling affects different types of models and if it neceassary.</b></p>"
   ]
  },
  {
   "cell_type": "markdown",
   "id": "63278757",
   "metadata": {},
   "source": [
    "<h3><b>Neural Networks</b></h3>"
   ]
  },
  {
   "cell_type": "code",
   "execution_count": 23,
   "id": "e0d3cc50",
   "metadata": {
    "collapsed": true
   },
   "outputs": [
    {
     "name": "stderr",
     "output_type": "stream",
     "text": [
      "/Users/dhairyarungta/opt/anaconda3/lib/python3.9/site-packages/sklearn/utils/validation.py:63: DataConversionWarning: A column-vector y was passed when a 1d array was expected. Please change the shape of y to (n_samples, ), for example using ravel().\n",
      "  return f(*args, **kwargs)\n",
      "/Users/dhairyarungta/opt/anaconda3/lib/python3.9/site-packages/sklearn/neural_network/_multilayer_perceptron.py:614: ConvergenceWarning: Stochastic Optimizer: Maximum iterations (200) reached and the optimization hasn't converged yet.\n",
      "  warnings.warn(\n"
     ]
    },
    {
     "data": {
      "text/plain": [
       "MLPRegressor()"
      ]
     },
     "execution_count": 23,
     "metadata": {},
     "output_type": "execute_result"
    }
   ],
   "source": [
    "from sklearn.neural_network import MLPRegressor\n",
    "model = MLPRegressor()\n",
    "model.fit(train_scaled, y_train)\n"
   ]
  },
  {
   "cell_type": "code",
   "execution_count": 24,
   "id": "6e856988",
   "metadata": {},
   "outputs": [
    {
     "name": "stdout",
     "output_type": "stream",
     "text": [
      "[4.62969103 7.57619141 9.69990291 ... 4.38380487 9.12149601 5.50318747]\n"
     ]
    }
   ],
   "source": [
    "print(model.predict(train_scaled))"
   ]
  },
  {
   "cell_type": "code",
   "execution_count": 25,
   "id": "73e722f6",
   "metadata": {
    "scrolled": true
   },
   "outputs": [
    {
     "data": {
      "text/html": [
       "<div>\n",
       "<style scoped>\n",
       "    .dataframe tbody tr th:only-of-type {\n",
       "        vertical-align: middle;\n",
       "    }\n",
       "\n",
       "    .dataframe tbody tr th {\n",
       "        vertical-align: top;\n",
       "    }\n",
       "\n",
       "    .dataframe thead th {\n",
       "        text-align: right;\n",
       "    }\n",
       "</style>\n",
       "<table border=\"1\" class=\"dataframe\">\n",
       "  <thead>\n",
       "    <tr style=\"text-align: right;\">\n",
       "      <th></th>\n",
       "      <th>price(USD)</th>\n",
       "    </tr>\n",
       "  </thead>\n",
       "  <tbody>\n",
       "    <tr>\n",
       "      <th>54</th>\n",
       "      <td>4.681205</td>\n",
       "    </tr>\n",
       "    <tr>\n",
       "      <th>1462</th>\n",
       "      <td>7.259137</td>\n",
       "    </tr>\n",
       "    <tr>\n",
       "      <th>1689</th>\n",
       "      <td>9.717236</td>\n",
       "    </tr>\n",
       "    <tr>\n",
       "      <th>1485</th>\n",
       "      <td>7.802307</td>\n",
       "    </tr>\n",
       "    <tr>\n",
       "      <th>1419</th>\n",
       "      <td>6.944319</td>\n",
       "    </tr>\n",
       "    <tr>\n",
       "      <th>...</th>\n",
       "      <td>...</td>\n",
       "    </tr>\n",
       "    <tr>\n",
       "      <th>44</th>\n",
       "      <td>4.643910</td>\n",
       "    </tr>\n",
       "    <tr>\n",
       "      <th>1252</th>\n",
       "      <td>6.416814</td>\n",
       "    </tr>\n",
       "    <tr>\n",
       "      <th>15</th>\n",
       "      <td>4.738126</td>\n",
       "    </tr>\n",
       "    <tr>\n",
       "      <th>1749</th>\n",
       "      <td>9.096804</td>\n",
       "    </tr>\n",
       "    <tr>\n",
       "      <th>903</th>\n",
       "      <td>5.595863</td>\n",
       "    </tr>\n",
       "  </tbody>\n",
       "</table>\n",
       "<p>1608 rows × 1 columns</p>\n",
       "</div>"
      ],
      "text/plain": [
       "      price(USD)\n",
       "54      4.681205\n",
       "1462    7.259137\n",
       "1689    9.717236\n",
       "1485    7.802307\n",
       "1419    6.944319\n",
       "...          ...\n",
       "44      4.643910\n",
       "1252    6.416814\n",
       "15      4.738126\n",
       "1749    9.096804\n",
       "903     5.595863\n",
       "\n",
       "[1608 rows x 1 columns]"
      ]
     },
     "execution_count": 25,
     "metadata": {},
     "output_type": "execute_result"
    }
   ],
   "source": [
    "y_train"
   ]
  },
  {
   "cell_type": "code",
   "execution_count": 26,
   "id": "7a1305df",
   "metadata": {
    "scrolled": true
   },
   "outputs": [
    {
     "name": "stdout",
     "output_type": "stream",
     "text": [
      "[ 6.93190683  7.83920011  5.58249611  5.76758337  7.49674916  6.08700065\n",
      "  6.48924409  7.13098472  8.77049869  5.57493241  6.13919215  8.71983963\n",
      "  7.56542856  7.49802533  7.85027268  7.5658691   5.67079519  4.45921325\n",
      "  6.74937733  7.21988702  5.49842652  8.50819196  8.89333442  5.60640635\n",
      "  5.58602668  6.26137047  6.13352853  5.71689831  6.6445863   4.41234053\n",
      "  4.62346453  6.22996793  6.35197668  5.84130423  5.62785775  6.23420521\n",
      "  5.63100915  6.38972982  6.70996493  6.14219226  5.92712992  8.51658837\n",
      "  6.95326345  6.16027182  5.61438911  5.48440042  5.5406198   5.54799951\n",
      "  8.94277669  6.17092554  5.46830412  6.35149404  7.31392436  8.64918036\n",
      "  6.3119375   6.20407219  7.12502499  7.68077852  5.47878529  6.57608345\n",
      "  6.2504881   7.8017253   6.43188313  6.14014972  9.36180631  9.29704997\n",
      "  8.75818494  6.05003563  7.50859184  5.5328764   6.02087676  6.22735976\n",
      "  7.41991274  5.7174263   5.89284276  5.64285784  7.47318154  6.22985793\n",
      "  6.16271045  7.36022193  7.05703689  7.71484625  5.94074887  6.25630906\n",
      "  5.29512099  4.34828851  6.24054253  7.5262904   7.68029172  6.05498046\n",
      "  7.20611723  6.00800462  7.84328438  6.27738305  9.07708863  8.75175758\n",
      "  7.27899656  5.53658256  6.33017403  6.24979026  6.91101437  6.61635489\n",
      "  6.68396098  7.54333544  6.34956394  8.42338198  8.94397356  6.05804691\n",
      "  5.71879114  6.25229507  9.26675873  8.77448516  6.08875033  4.66582508\n",
      "  5.81625924  7.52600831  8.67333856  5.97063337  5.87976238  6.24582444\n",
      "  8.57029798  5.61071477  9.2200391   8.59126472  6.21804094  7.32868507\n",
      "  6.21940641  7.89511684  5.53232074  6.0631504   5.46732928  4.52890007\n",
      "  4.41757427  6.43956029  6.3448905   5.93420174  8.9894375   6.48273814\n",
      "  9.23408913  6.788964    5.60918278  5.98916458  6.61029031  6.80520299\n",
      "  5.83146327  6.37880272  6.23767389  6.38759119  5.13815562  4.61955528\n",
      "  8.77332698  5.39596695  8.3016371   8.88708378  5.50984432  8.66579265\n",
      "  8.52523777  5.44993846  6.19681868  6.18471294  9.65937285  5.58120362\n",
      "  5.54774456  6.40906209  6.16593138  5.63429661  5.55117117  5.62505056\n",
      "  5.73555583  6.38981083  5.63750022  7.62565684  5.74718447  6.08747006\n",
      "  6.75401455  5.29689699  9.14924464  8.96144389  5.91044753  8.30658181\n",
      "  6.50970346  7.17440932  6.39727028  9.65916696  4.7263636   5.57029221\n",
      "  6.30529922  5.75091075  4.84444341  8.46946362  9.01656493  5.52071267\n",
      "  7.08506349  7.26735707  6.55831998  6.11357952  6.58684234  8.65186259\n",
      "  7.78759376  5.34994215  5.94961515  6.36395961  6.14618103  5.70485999\n",
      "  5.49774828  6.08167464  6.24670111  5.66680747  7.37331589  7.43629485\n",
      "  5.54108131  9.28604114  5.99656385  6.09438907  6.06045761  5.45005794\n",
      "  6.01960781  6.36073418 10.10347832  9.16792196  5.50317406  6.47937812\n",
      "  5.90676823  8.79119161  6.28339258  9.8760117   9.77397428  6.38790739\n",
      "  4.6744444   5.58437863  7.71580916  9.41161978  6.46028982  6.81290075\n",
      "  6.11900763  7.88597205  5.33508661  5.60886669  7.69784646  8.14042825\n",
      "  9.27791523  6.29937669  7.88268905  6.11741386  7.76626813  5.54639288\n",
      "  5.56274803  5.68460164  5.5066782   8.68108844  5.95987241  8.83090572\n",
      "  9.05852314  5.61283172  4.78168808  6.10251427  9.05881782  5.76644128\n",
      "  6.09899089  5.74609677  7.69317716  6.9694831   6.93637719  5.51577869\n",
      "  6.18978123  5.18587328  6.59545773  6.61200676  5.82179037  6.26092305\n",
      "  6.27929223  7.57616071  5.58696551  6.46013384  5.99382308  8.05338864\n",
      "  5.43870806  6.23205356  8.36651764  6.30832621  6.48684473  6.24847937\n",
      "  6.05917924  7.3105145   5.76282417  8.54607369  6.24614636  8.69003617\n",
      "  6.32104882  6.14308129  9.1370116   9.37866469  8.49965338  9.00446194\n",
      "  8.99751445  5.83092409  5.57768627  6.78801435  6.56374371  9.15394307\n",
      "  6.35468651  5.70296521  7.50884822  8.81846002  5.5802025   7.76668818\n",
      "  7.88876428  8.19235395  5.70020312  6.68681822  6.16991965  5.84466633\n",
      "  5.62506836  6.47437845  4.81350529  9.15489053  5.46126488  5.95637571\n",
      "  9.11540276  6.35950557  9.16088515  5.598875    5.61603752  7.14726779\n",
      "  6.99277648  6.72035215  8.54244174  6.21325848  6.08083476  5.75279114\n",
      "  7.15119782  6.23040176  6.1918122   6.0987923   6.18727448  6.78599501\n",
      "  5.52944218  5.52639635  6.66230175  6.00629908  5.66422552  5.7412397\n",
      "  9.03407191  9.15253015  7.75580941  5.77767547  6.60400335  5.73803063\n",
      "  8.99080754  7.18269868  6.08590221  6.09895109  8.90880928  5.56169819\n",
      "  5.53202475  5.73947359  6.14850225  5.57163684  6.37973077  6.08975962\n",
      "  5.82184663  5.99385784  6.28358386  5.02985252  6.02042817  8.68917294\n",
      "  4.79578713  5.93800524  8.76721238  6.19978101  4.48375258  5.91479292\n",
      "  9.09612086  5.55551958  8.22791134  8.73570302  5.56722992  7.98922658\n",
      "  6.50930233  5.6547429   7.84440361  6.75882324  5.00806224  6.80350915\n",
      "  7.05568835  6.07995365  6.3769918   6.42744316  7.55028991  9.1772775\n",
      "  5.81745696  6.39259352  8.85724419  6.46304529  6.05618955  9.02730109\n",
      "  6.97929606  5.54088565  8.83790228  5.52763727  5.53293439  7.24861924]\n"
     ]
    }
   ],
   "source": [
    "print(model.predict(test_scaled))"
   ]
  },
  {
   "cell_type": "code",
   "execution_count": 27,
   "id": "175fc10a",
   "metadata": {},
   "outputs": [
    {
     "name": "stdout",
     "output_type": "stream",
     "text": [
      "      price(USD)\n",
      "1358    6.812752\n",
      "1480    7.592991\n",
      "668     5.535443\n",
      "593     5.861811\n",
      "1558    8.088749\n",
      "...          ...\n",
      "892     5.496102\n",
      "1753    9.230878\n",
      "916     5.891285\n",
      "805     5.663134\n",
      "1418    6.884210\n",
      "\n",
      "[402 rows x 1 columns]\n"
     ]
    }
   ],
   "source": [
    "print (y_test)"
   ]
  },
  {
   "cell_type": "code",
   "execution_count": 28,
   "id": "e1d1e040",
   "metadata": {},
   "outputs": [],
   "source": [
    "# Import mean_squared_error from sklearn\n",
    "from sklearn.metrics import mean_squared_error\n",
    "from sklearn.metrics import mean_absolute_error\n",
    "from math import sqrt\n"
   ]
  },
  {
   "cell_type": "code",
   "execution_count": 29,
   "id": "f9203b7c",
   "metadata": {},
   "outputs": [
    {
     "name": "stdout",
     "output_type": "stream",
     "text": [
      "0.08432869096759456\n",
      "0.29039402708663714\n",
      "0.22063260970166207\n"
     ]
    }
   ],
   "source": [
    "nn_train_mse = mean_squared_error(y_train, model.predict(train_scaled))\n",
    "nn_train_mae = mean_absolute_error(y_train, model.predict(train_scaled))\n",
    "print(nn_train_mse)\n",
    "print(sqrt(nn_train_mse))\n",
    "print(nn_train_mae)"
   ]
  },
  {
   "cell_type": "code",
   "execution_count": 30,
   "id": "1ba15640",
   "metadata": {},
   "outputs": [
    {
     "name": "stdout",
     "output_type": "stream",
     "text": [
      "0.08414728533263983\n",
      "0.2900815149792207\n",
      "0.21894435080019123\n"
     ]
    }
   ],
   "source": [
    "nn_test_mse = mean_squared_error(y_test, model.predict(test_scaled))\n",
    "nn_test_mae = mean_absolute_error(y_test, model.predict(test_scaled))\n",
    "print(nn_test_mse)\n",
    "print(sqrt(nn_test_mse))\n",
    "print(nn_test_mae)"
   ]
  },
  {
   "cell_type": "markdown",
   "id": "68c4f2e2",
   "metadata": {},
   "source": [
    "<p><b>Applying linear regression in order to compare the results of linear regression with neural networks</b></p>\n"
   ]
  },
  {
   "cell_type": "code",
   "execution_count": 32,
   "id": "192bc016",
   "metadata": {},
   "outputs": [
    {
     "name": "stdout",
     "output_type": "stream",
     "text": [
      "Intercept of Regression \t: b =  [6.71775385]\n",
      "Coefficients of Regression \t: a =  [[-3.65364468 -0.57603176  0.81342061  4.62381449]]\n",
      "\n",
      "Goodness of Fit of Model \tTrain Dataset\n",
      "Explained Variance (R^2) \t: 0.7238484549499319\n",
      "Mean Squared Error (MSE) \t: 0.521796968887948\n",
      "\n",
      "Goodness of Fit of Model \tTest Dataset\n",
      "Explained Variance (R^2) \t: 0.712298791927173\n",
      "Mean Squared Error (MSE) \t: 0.5120379091527985\n",
      "\n"
     ]
    }
   ],
   "source": [
    "# Import LinearRegression model from Scikit-Learn\n",
    "from sklearn.linear_model import LinearRegression\n",
    "\n",
    "\n",
    "# Linear Regression using Train Data\n",
    "linreg = LinearRegression()         # create the linear regression object\n",
    "linreg.fit(train_scaled, y_train)        # train the linear regression model\n",
    "\n",
    "# Coefficients of the Linear Regression line\n",
    "print('Intercept of Regression \\t: b = ', linreg.intercept_)\n",
    "print('Coefficients of Regression \\t: a = ', linreg.coef_)\n",
    "print()\n",
    "\n",
    "# Print the Coefficients against Predictors\n",
    "pd.DataFrame(list(zip(X_train.columns, linreg.coef_[0])), columns = [\"Predictors\", \"Coefficients\"])\n",
    "y_train_pred = linreg.predict(train_scaled)\n",
    "y_test_pred = linreg.predict(test_scaled)\n",
    "\n",
    "# Import mean_squared_error from sklearn\n",
    "from sklearn.metrics import mean_squared_error\n",
    "\n",
    "# Check the Goodness of Fit (on Train Data)\n",
    "print(\"Goodness of Fit of Model \\tTrain Dataset\")\n",
    "print(\"Explained Variance (R^2) \\t:\", linreg.score(train_scaled, y_train))\n",
    "print(\"Mean Squared Error (MSE) \\t:\", mean_squared_error(y_train, y_train_pred))\n",
    "print()\n",
    "\n",
    "# Check the Goodness of Fit (on Test Data)\n",
    "print(\"Goodness of Fit of Model \\tTest Dataset\")\n",
    "print(\"Explained Variance (R^2) \\t:\", linreg.score(test_scaled, y_test))\n",
    "print(\"Mean Squared Error (MSE) \\t:\", mean_squared_error(y_test, y_test_pred))\n",
    "print()"
   ]
  },
  {
   "cell_type": "code",
   "execution_count": 33,
   "id": "6003cd24",
   "metadata": {},
   "outputs": [
    {
     "data": {
      "image/png": "[encoded data removed]",
      "text/plain": [
       "<Figure size 432x288 with 1 Axes>"
      ]
     },
     "metadata": {},
     "output_type": "display_data"
    },
    {
     "data": {
      "image/png": "[encoded data removed]",
      "text/plain": [
       "<Figure size 432x288 with 1 Axes>"
      ]
     },
     "metadata": {},
     "output_type": "display_data"
    }
   ],
   "source": [
    "plt.scatter(y_train,model.predict(train_scaled)\n",
    ",  color='black') \n",
    "plt.axline( [4,4],[10,10],color='red',linewidth=2)\n",
    "plt.xlabel('Data')\n",
    "plt.ylabel('Model')\n",
    "plt.title('NEURAL NETWORK MODEL')\n",
    "plt.show()\n",
    "\n",
    "\n",
    "\n",
    "plt.scatter(y_train,linreg.predict(train_scaled)\n",
    ",  color='black') \n",
    "plt.axline( [4,4],[10,10],color='red',linewidth=2)\n",
    "plt.xlabel('Data')\n",
    "plt.ylabel('Model')\n",
    "plt.title('LINEAR REGRESSION MODEL')\n",
    "plt.show()\n"
   ]
  },
  {
   "cell_type": "code",
   "execution_count": 34,
   "id": "bd2075de",
   "metadata": {},
   "outputs": [
    {
     "data": {
      "image/png": "[encoded data removed]",
      "text/plain": [
       "<Figure size 432x288 with 1 Axes>"
      ]
     },
     "metadata": {},
     "output_type": "display_data"
    },
    {
     "data": {
      "image/png": "[encoded data removed]",
      "text/plain": [
       "<Figure size 432x288 with 1 Axes>"
      ]
     },
     "metadata": {},
     "output_type": "display_data"
    }
   ],
   "source": [
    "plt.scatter(y_test,model.predict(test_scaled)\n",
    ",  color='blue') \n",
    "plt.axline( [4,4],[10,10],color='red',linewidth=2)\n",
    "plt.xlabel('Data')\n",
    "plt.ylabel('Model')\n",
    "plt.title('NEURAL NETWOKR MODEL')\n",
    "plt.show()\n",
    "\n",
    "\n",
    "\n",
    "plt.scatter(y_test,linreg.predict(test_scaled)\n",
    ",  color='blue') \n",
    "plt.axline( [4,4],[10,10],color='red',linewidth=2)\n",
    "plt.xlabel('Data')\n",
    "plt.ylabel('Model')\n",
    "plt.title('LINEAR REGRESSION MODEL')\n",
    "plt.show()\n"
   ]
  },
  {
   "cell_type": "markdown",
   "id": "5b3f3d29",
   "metadata": {},
   "source": [
    "<p><b>Further improving neural networks by optmising parameters</b></p>"
   ]
  },
  {
   "cell_type": "code",
   "execution_count": 42,
   "id": "fb610bab",
   "metadata": {},
   "outputs": [],
   "source": [
    "param_grid = {\n",
    "    'hidden_layer_sizes': [(150,100,50), (120,80,40), (100,50,30)],\n",
    "    'max_iter': [50, 1000],\n",
    "    'activation': ['tanh', 'relu'],\n",
    "    \n",
    "}\n"
   ]
  },
  {
   "cell_type": "code",
   "execution_count": 43,
   "id": "6e261fd3",
   "metadata": {},
   "outputs": [],
   "source": [
    "from sklearn import metrics\n",
    "\n",
    "from sklearn.model_selection import GridSearchCV\n"
   ]
  },
  {
   "cell_type": "code",
   "execution_count": 44,
   "id": "0631c179",
   "metadata": {
    "scrolled": true
   },
   "outputs": [
    {
     "name": "stderr",
     "output_type": "stream",
     "text": [
      "/Users/dhairyarungta/opt/anaconda3/lib/python3.9/site-packages/sklearn/utils/validation.py:63: DataConversionWarning: A column-vector y was passed when a 1d array was expected. Please change the shape of y to (n_samples, ), for example using ravel().\n",
      "  return f(*args, **kwargs)\n",
      "/Users/dhairyarungta/opt/anaconda3/lib/python3.9/site-packages/sklearn/utils/validation.py:63: DataConversionWarning: A column-vector y was passed when a 1d array was expected. Please change the shape of y to (n_samples, ), for example using ravel().\n",
      "  return f(*args, **kwargs)\n",
      "/Users/dhairyarungta/opt/anaconda3/lib/python3.9/site-packages/sklearn/utils/validation.py:63: DataConversionWarning: A column-vector y was passed when a 1d array was expected. Please change the shape of y to (n_samples, ), for example using ravel().\n",
      "  return f(*args, **kwargs)\n",
      "/Users/dhairyarungta/opt/anaconda3/lib/python3.9/site-packages/sklearn/utils/validation.py:63: DataConversionWarning: A column-vector y was passed when a 1d array was expected. Please change the shape of y to (n_samples, ), for example using ravel().\n",
      "  return f(*args, **kwargs)\n",
      "/Users/dhairyarungta/opt/anaconda3/lib/python3.9/site-packages/sklearn/utils/validation.py:63: DataConversionWarning: A column-vector y was passed when a 1d array was expected. Please change the shape of y to (n_samples, ), for example using ravel().\n",
      "  return f(*args, **kwargs)\n",
      "/Users/dhairyarungta/opt/anaconda3/lib/python3.9/site-packages/sklearn/utils/validation.py:63: DataConversionWarning: A column-vector y was passed when a 1d array was expected. Please change the shape of y to (n_samples, ), for example using ravel().\n",
      "  return f(*args, **kwargs)\n",
      "/Users/dhairyarungta/opt/anaconda3/lib/python3.9/site-packages/sklearn/utils/validation.py:63: DataConversionWarning: A column-vector y was passed when a 1d array was expected. Please change the shape of y to (n_samples, ), for example using ravel().\n",
      "  return f(*args, **kwargs)\n",
      "/Users/dhairyarungta/opt/anaconda3/lib/python3.9/site-packages/sklearn/utils/validation.py:63: DataConversionWarning: A column-vector y was passed when a 1d array was expected. Please change the shape of y to (n_samples, ), for example using ravel().\n",
      "  return f(*args, **kwargs)\n",
      "/Users/dhairyarungta/opt/anaconda3/lib/python3.9/site-packages/sklearn/neural_network/_multilayer_perceptron.py:614: ConvergenceWarning: Stochastic Optimizer: Maximum iterations (50) reached and the optimization hasn't converged yet.\n",
      "  warnings.warn(\n",
      "/Users/dhairyarungta/opt/anaconda3/lib/python3.9/site-packages/sklearn/utils/validation.py:63: DataConversionWarning: A column-vector y was passed when a 1d array was expected. Please change the shape of y to (n_samples, ), for example using ravel().\n",
      "  return f(*args, **kwargs)\n",
      "/Users/dhairyarungta/opt/anaconda3/lib/python3.9/site-packages/sklearn/neural_network/_multilayer_perceptron.py:614: ConvergenceWarning: Stochastic Optimizer: Maximum iterations (50) reached and the optimization hasn't converged yet.\n",
      "  warnings.warn(\n",
      "/Users/dhairyarungta/opt/anaconda3/lib/python3.9/site-packages/sklearn/utils/validation.py:63: DataConversionWarning: A column-vector y was passed when a 1d array was expected. Please change the shape of y to (n_samples, ), for example using ravel().\n",
      "  return f(*args, **kwargs)\n",
      "/Users/dhairyarungta/opt/anaconda3/lib/python3.9/site-packages/sklearn/neural_network/_multilayer_perceptron.py:614: ConvergenceWarning: Stochastic Optimizer: Maximum iterations (50) reached and the optimization hasn't converged yet.\n",
      "  warnings.warn(\n",
      "/Users/dhairyarungta/opt/anaconda3/lib/python3.9/site-packages/sklearn/utils/validation.py:63: DataConversionWarning: A column-vector y was passed when a 1d array was expected. Please change the shape of y to (n_samples, ), for example using ravel().\n",
      "  return f(*args, **kwargs)\n",
      "/Users/dhairyarungta/opt/anaconda3/lib/python3.9/site-packages/sklearn/neural_network/_multilayer_perceptron.py:614: ConvergenceWarning: Stochastic Optimizer: Maximum iterations (50) reached and the optimization hasn't converged yet.\n",
      "  warnings.warn(\n",
      "/Users/dhairyarungta/opt/anaconda3/lib/python3.9/site-packages/sklearn/utils/validation.py:63: DataConversionWarning: A column-vector y was passed when a 1d array was expected. Please change the shape of y to (n_samples, ), for example using ravel().\n",
      "  return f(*args, **kwargs)\n",
      "/Users/dhairyarungta/opt/anaconda3/lib/python3.9/site-packages/sklearn/neural_network/_multilayer_perceptron.py:614: ConvergenceWarning: Stochastic Optimizer: Maximum iterations (50) reached and the optimization hasn't converged yet.\n",
      "  warnings.warn(\n",
      "/Users/dhairyarungta/opt/anaconda3/lib/python3.9/site-packages/sklearn/utils/validation.py:63: DataConversionWarning: A column-vector y was passed when a 1d array was expected. Please change the shape of y to (n_samples, ), for example using ravel().\n",
      "  return f(*args, **kwargs)\n",
      "/Users/dhairyarungta/opt/anaconda3/lib/python3.9/site-packages/sklearn/neural_network/_multilayer_perceptron.py:614: ConvergenceWarning: Stochastic Optimizer: Maximum iterations (50) reached and the optimization hasn't converged yet.\n",
      "  warnings.warn(\n",
      "/Users/dhairyarungta/opt/anaconda3/lib/python3.9/site-packages/sklearn/utils/validation.py:63: DataConversionWarning: A column-vector y was passed when a 1d array was expected. Please change the shape of y to (n_samples, ), for example using ravel().\n",
      "  return f(*args, **kwargs)\n",
      "/Users/dhairyarungta/opt/anaconda3/lib/python3.9/site-packages/sklearn/neural_network/_multilayer_perceptron.py:614: ConvergenceWarning: Stochastic Optimizer: Maximum iterations (50) reached and the optimization hasn't converged yet.\n",
      "  warnings.warn(\n",
      "/Users/dhairyarungta/opt/anaconda3/lib/python3.9/site-packages/sklearn/utils/validation.py:63: DataConversionWarning: A column-vector y was passed when a 1d array was expected. Please change the shape of y to (n_samples, ), for example using ravel().\n",
      "  return f(*args, **kwargs)\n",
      "/Users/dhairyarungta/opt/anaconda3/lib/python3.9/site-packages/sklearn/neural_network/_multilayer_perceptron.py:614: ConvergenceWarning: Stochastic Optimizer: Maximum iterations (50) reached and the optimization hasn't converged yet.\n",
      "  warnings.warn(\n",
      "/Users/dhairyarungta/opt/anaconda3/lib/python3.9/site-packages/sklearn/utils/validation.py:63: DataConversionWarning: A column-vector y was passed when a 1d array was expected. Please change the shape of y to (n_samples, ), for example using ravel().\n",
      "  return f(*args, **kwargs)\n",
      "/Users/dhairyarungta/opt/anaconda3/lib/python3.9/site-packages/sklearn/neural_network/_multilayer_perceptron.py:614: ConvergenceWarning: Stochastic Optimizer: Maximum iterations (50) reached and the optimization hasn't converged yet.\n",
      "  warnings.warn(\n",
      "/Users/dhairyarungta/opt/anaconda3/lib/python3.9/site-packages/sklearn/neural_network/_multilayer_perceptron.py:614: ConvergenceWarning: Stochastic Optimizer: Maximum iterations (50) reached and the optimization hasn't converged yet.\n",
      "  warnings.warn(\n",
      "/Users/dhairyarungta/opt/anaconda3/lib/python3.9/site-packages/sklearn/utils/validation.py:63: DataConversionWarning: A column-vector y was passed when a 1d array was expected. Please change the shape of y to (n_samples, ), for example using ravel().\n",
      "  return f(*args, **kwargs)\n",
      "/Users/dhairyarungta/opt/anaconda3/lib/python3.9/site-packages/sklearn/utils/validation.py:63: DataConversionWarning: A column-vector y was passed when a 1d array was expected. Please change the shape of y to (n_samples, ), for example using ravel().\n",
      "  return f(*args, **kwargs)\n",
      "/Users/dhairyarungta/opt/anaconda3/lib/python3.9/site-packages/sklearn/utils/validation.py:63: DataConversionWarning: A column-vector y was passed when a 1d array was expected. Please change the shape of y to (n_samples, ), for example using ravel().\n",
      "  return f(*args, **kwargs)\n",
      "/Users/dhairyarungta/opt/anaconda3/lib/python3.9/site-packages/sklearn/utils/validation.py:63: DataConversionWarning: A column-vector y was passed when a 1d array was expected. Please change the shape of y to (n_samples, ), for example using ravel().\n",
      "  return f(*args, **kwargs)\n",
      "/Users/dhairyarungta/opt/anaconda3/lib/python3.9/site-packages/sklearn/utils/validation.py:63: DataConversionWarning: A column-vector y was passed when a 1d array was expected. Please change the shape of y to (n_samples, ), for example using ravel().\n",
      "  return f(*args, **kwargs)\n"
     ]
    },
    {
     "name": "stderr",
     "output_type": "stream",
     "text": [
      "/Users/dhairyarungta/opt/anaconda3/lib/python3.9/site-packages/sklearn/neural_network/_multilayer_perceptron.py:614: ConvergenceWarning: Stochastic Optimizer: Maximum iterations (50) reached and the optimization hasn't converged yet.\n",
      "  warnings.warn(\n",
      "/Users/dhairyarungta/opt/anaconda3/lib/python3.9/site-packages/sklearn/utils/validation.py:63: DataConversionWarning: A column-vector y was passed when a 1d array was expected. Please change the shape of y to (n_samples, ), for example using ravel().\n",
      "  return f(*args, **kwargs)\n",
      "/Users/dhairyarungta/opt/anaconda3/lib/python3.9/site-packages/sklearn/utils/validation.py:63: DataConversionWarning: A column-vector y was passed when a 1d array was expected. Please change the shape of y to (n_samples, ), for example using ravel().\n",
      "  return f(*args, **kwargs)\n",
      "/Users/dhairyarungta/opt/anaconda3/lib/python3.9/site-packages/sklearn/neural_network/_multilayer_perceptron.py:614: ConvergenceWarning: Stochastic Optimizer: Maximum iterations (50) reached and the optimization hasn't converged yet.\n",
      "  warnings.warn(\n",
      "/Users/dhairyarungta/opt/anaconda3/lib/python3.9/site-packages/sklearn/utils/validation.py:63: DataConversionWarning: A column-vector y was passed when a 1d array was expected. Please change the shape of y to (n_samples, ), for example using ravel().\n",
      "  return f(*args, **kwargs)\n",
      "/Users/dhairyarungta/opt/anaconda3/lib/python3.9/site-packages/sklearn/utils/validation.py:63: DataConversionWarning: A column-vector y was passed when a 1d array was expected. Please change the shape of y to (n_samples, ), for example using ravel().\n",
      "  return f(*args, **kwargs)\n",
      "/Users/dhairyarungta/opt/anaconda3/lib/python3.9/site-packages/sklearn/neural_network/_multilayer_perceptron.py:614: ConvergenceWarning: Stochastic Optimizer: Maximum iterations (50) reached and the optimization hasn't converged yet.\n",
      "  warnings.warn(\n",
      "/Users/dhairyarungta/opt/anaconda3/lib/python3.9/site-packages/sklearn/utils/validation.py:63: DataConversionWarning: A column-vector y was passed when a 1d array was expected. Please change the shape of y to (n_samples, ), for example using ravel().\n",
      "  return f(*args, **kwargs)\n",
      "/Users/dhairyarungta/opt/anaconda3/lib/python3.9/site-packages/sklearn/neural_network/_multilayer_perceptron.py:614: ConvergenceWarning: Stochastic Optimizer: Maximum iterations (50) reached and the optimization hasn't converged yet.\n",
      "  warnings.warn(\n",
      "/Users/dhairyarungta/opt/anaconda3/lib/python3.9/site-packages/sklearn/utils/validation.py:63: DataConversionWarning: A column-vector y was passed when a 1d array was expected. Please change the shape of y to (n_samples, ), for example using ravel().\n",
      "  return f(*args, **kwargs)\n",
      "/Users/dhairyarungta/opt/anaconda3/lib/python3.9/site-packages/sklearn/utils/validation.py:63: DataConversionWarning: A column-vector y was passed when a 1d array was expected. Please change the shape of y to (n_samples, ), for example using ravel().\n",
      "  return f(*args, **kwargs)\n",
      "/Users/dhairyarungta/opt/anaconda3/lib/python3.9/site-packages/sklearn/neural_network/_multilayer_perceptron.py:614: ConvergenceWarning: Stochastic Optimizer: Maximum iterations (50) reached and the optimization hasn't converged yet.\n",
      "  warnings.warn(\n",
      "/Users/dhairyarungta/opt/anaconda3/lib/python3.9/site-packages/sklearn/utils/validation.py:63: DataConversionWarning: A column-vector y was passed when a 1d array was expected. Please change the shape of y to (n_samples, ), for example using ravel().\n",
      "  return f(*args, **kwargs)\n",
      "/Users/dhairyarungta/opt/anaconda3/lib/python3.9/site-packages/sklearn/utils/validation.py:63: DataConversionWarning: A column-vector y was passed when a 1d array was expected. Please change the shape of y to (n_samples, ), for example using ravel().\n",
      "  return f(*args, **kwargs)\n",
      "/Users/dhairyarungta/opt/anaconda3/lib/python3.9/site-packages/sklearn/utils/validation.py:63: DataConversionWarning: A column-vector y was passed when a 1d array was expected. Please change the shape of y to (n_samples, ), for example using ravel().\n",
      "  return f(*args, **kwargs)\n",
      "/Users/dhairyarungta/opt/anaconda3/lib/python3.9/site-packages/sklearn/neural_network/_multilayer_perceptron.py:614: ConvergenceWarning: Stochastic Optimizer: Maximum iterations (50) reached and the optimization hasn't converged yet.\n",
      "  warnings.warn(\n",
      "/Users/dhairyarungta/opt/anaconda3/lib/python3.9/site-packages/sklearn/utils/validation.py:63: DataConversionWarning: A column-vector y was passed when a 1d array was expected. Please change the shape of y to (n_samples, ), for example using ravel().\n",
      "  return f(*args, **kwargs)\n",
      "/Users/dhairyarungta/opt/anaconda3/lib/python3.9/site-packages/sklearn/utils/validation.py:63: DataConversionWarning: A column-vector y was passed when a 1d array was expected. Please change the shape of y to (n_samples, ), for example using ravel().\n",
      "  return f(*args, **kwargs)\n",
      "/Users/dhairyarungta/opt/anaconda3/lib/python3.9/site-packages/sklearn/utils/validation.py:63: DataConversionWarning: A column-vector y was passed when a 1d array was expected. Please change the shape of y to (n_samples, ), for example using ravel().\n",
      "  return f(*args, **kwargs)\n",
      "/Users/dhairyarungta/opt/anaconda3/lib/python3.9/site-packages/sklearn/neural_network/_multilayer_perceptron.py:614: ConvergenceWarning: Stochastic Optimizer: Maximum iterations (50) reached and the optimization hasn't converged yet.\n",
      "  warnings.warn(\n",
      "/Users/dhairyarungta/opt/anaconda3/lib/python3.9/site-packages/sklearn/utils/validation.py:63: DataConversionWarning: A column-vector y was passed when a 1d array was expected. Please change the shape of y to (n_samples, ), for example using ravel().\n",
      "  return f(*args, **kwargs)\n",
      "/Users/dhairyarungta/opt/anaconda3/lib/python3.9/site-packages/sklearn/neural_network/_multilayer_perceptron.py:614: ConvergenceWarning: Stochastic Optimizer: Maximum iterations (50) reached and the optimization hasn't converged yet.\n",
      "  warnings.warn(\n",
      "/Users/dhairyarungta/opt/anaconda3/lib/python3.9/site-packages/sklearn/utils/validation.py:63: DataConversionWarning: A column-vector y was passed when a 1d array was expected. Please change the shape of y to (n_samples, ), for example using ravel().\n",
      "  return f(*args, **kwargs)\n",
      "/Users/dhairyarungta/opt/anaconda3/lib/python3.9/site-packages/sklearn/neural_network/_multilayer_perceptron.py:614: ConvergenceWarning: Stochastic Optimizer: Maximum iterations (50) reached and the optimization hasn't converged yet.\n",
      "  warnings.warn(\n",
      "/Users/dhairyarungta/opt/anaconda3/lib/python3.9/site-packages/sklearn/utils/validation.py:63: DataConversionWarning: A column-vector y was passed when a 1d array was expected. Please change the shape of y to (n_samples, ), for example using ravel().\n",
      "  return f(*args, **kwargs)\n",
      "/Users/dhairyarungta/opt/anaconda3/lib/python3.9/site-packages/sklearn/utils/validation.py:63: DataConversionWarning: A column-vector y was passed when a 1d array was expected. Please change the shape of y to (n_samples, ), for example using ravel().\n",
      "  return f(*args, **kwargs)\n",
      "/Users/dhairyarungta/opt/anaconda3/lib/python3.9/site-packages/sklearn/utils/validation.py:63: DataConversionWarning: A column-vector y was passed when a 1d array was expected. Please change the shape of y to (n_samples, ), for example using ravel().\n",
      "  return f(*args, **kwargs)\n",
      "/Users/dhairyarungta/opt/anaconda3/lib/python3.9/site-packages/sklearn/neural_network/_multilayer_perceptron.py:614: ConvergenceWarning: Stochastic Optimizer: Maximum iterations (50) reached and the optimization hasn't converged yet.\n",
      "  warnings.warn(\n",
      "/Users/dhairyarungta/opt/anaconda3/lib/python3.9/site-packages/sklearn/utils/validation.py:63: DataConversionWarning: A column-vector y was passed when a 1d array was expected. Please change the shape of y to (n_samples, ), for example using ravel().\n",
      "  return f(*args, **kwargs)\n",
      "/Users/dhairyarungta/opt/anaconda3/lib/python3.9/site-packages/sklearn/utils/validation.py:63: DataConversionWarning: A column-vector y was passed when a 1d array was expected. Please change the shape of y to (n_samples, ), for example using ravel().\n",
      "  return f(*args, **kwargs)\n",
      "/Users/dhairyarungta/opt/anaconda3/lib/python3.9/site-packages/sklearn/utils/validation.py:63: DataConversionWarning: A column-vector y was passed when a 1d array was expected. Please change the shape of y to (n_samples, ), for example using ravel().\n",
      "  return f(*args, **kwargs)\n"
     ]
    },
    {
     "name": "stderr",
     "output_type": "stream",
     "text": [
      "/Users/dhairyarungta/opt/anaconda3/lib/python3.9/site-packages/sklearn/utils/validation.py:63: DataConversionWarning: A column-vector y was passed when a 1d array was expected. Please change the shape of y to (n_samples, ), for example using ravel().\n",
      "  return f(*args, **kwargs)\n",
      "/Users/dhairyarungta/opt/anaconda3/lib/python3.9/site-packages/sklearn/neural_network/_multilayer_perceptron.py:614: ConvergenceWarning: Stochastic Optimizer: Maximum iterations (50) reached and the optimization hasn't converged yet.\n",
      "  warnings.warn(\n",
      "/Users/dhairyarungta/opt/anaconda3/lib/python3.9/site-packages/sklearn/utils/validation.py:63: DataConversionWarning: A column-vector y was passed when a 1d array was expected. Please change the shape of y to (n_samples, ), for example using ravel().\n",
      "  return f(*args, **kwargs)\n",
      "/Users/dhairyarungta/opt/anaconda3/lib/python3.9/site-packages/sklearn/neural_network/_multilayer_perceptron.py:614: ConvergenceWarning: Stochastic Optimizer: Maximum iterations (50) reached and the optimization hasn't converged yet.\n",
      "  warnings.warn(\n",
      "/Users/dhairyarungta/opt/anaconda3/lib/python3.9/site-packages/sklearn/utils/validation.py:63: DataConversionWarning: A column-vector y was passed when a 1d array was expected. Please change the shape of y to (n_samples, ), for example using ravel().\n",
      "  return f(*args, **kwargs)\n",
      "/Users/dhairyarungta/opt/anaconda3/lib/python3.9/site-packages/sklearn/neural_network/_multilayer_perceptron.py:614: ConvergenceWarning: Stochastic Optimizer: Maximum iterations (50) reached and the optimization hasn't converged yet.\n",
      "  warnings.warn(\n",
      "/Users/dhairyarungta/opt/anaconda3/lib/python3.9/site-packages/sklearn/utils/validation.py:63: DataConversionWarning: A column-vector y was passed when a 1d array was expected. Please change the shape of y to (n_samples, ), for example using ravel().\n",
      "  return f(*args, **kwargs)\n",
      "/Users/dhairyarungta/opt/anaconda3/lib/python3.9/site-packages/sklearn/neural_network/_multilayer_perceptron.py:614: ConvergenceWarning: Stochastic Optimizer: Maximum iterations (50) reached and the optimization hasn't converged yet.\n",
      "  warnings.warn(\n",
      "/Users/dhairyarungta/opt/anaconda3/lib/python3.9/site-packages/sklearn/utils/validation.py:63: DataConversionWarning: A column-vector y was passed when a 1d array was expected. Please change the shape of y to (n_samples, ), for example using ravel().\n",
      "  return f(*args, **kwargs)\n",
      "/Users/dhairyarungta/opt/anaconda3/lib/python3.9/site-packages/sklearn/neural_network/_multilayer_perceptron.py:614: ConvergenceWarning: Stochastic Optimizer: Maximum iterations (50) reached and the optimization hasn't converged yet.\n",
      "  warnings.warn(\n",
      "/Users/dhairyarungta/opt/anaconda3/lib/python3.9/site-packages/sklearn/utils/validation.py:63: DataConversionWarning: A column-vector y was passed when a 1d array was expected. Please change the shape of y to (n_samples, ), for example using ravel().\n",
      "  return f(*args, **kwargs)\n",
      "/Users/dhairyarungta/opt/anaconda3/lib/python3.9/site-packages/sklearn/utils/validation.py:63: DataConversionWarning: A column-vector y was passed when a 1d array was expected. Please change the shape of y to (n_samples, ), for example using ravel().\n",
      "  return f(*args, **kwargs)\n",
      "/Users/dhairyarungta/opt/anaconda3/lib/python3.9/site-packages/sklearn/utils/validation.py:63: DataConversionWarning: A column-vector y was passed when a 1d array was expected. Please change the shape of y to (n_samples, ), for example using ravel().\n",
      "  return f(*args, **kwargs)\n",
      "/Users/dhairyarungta/opt/anaconda3/lib/python3.9/site-packages/sklearn/utils/validation.py:63: DataConversionWarning: A column-vector y was passed when a 1d array was expected. Please change the shape of y to (n_samples, ), for example using ravel().\n",
      "  return f(*args, **kwargs)\n",
      "/Users/dhairyarungta/opt/anaconda3/lib/python3.9/site-packages/sklearn/utils/validation.py:63: DataConversionWarning: A column-vector y was passed when a 1d array was expected. Please change the shape of y to (n_samples, ), for example using ravel().\n",
      "  return f(*args, **kwargs)\n",
      "/Users/dhairyarungta/opt/anaconda3/lib/python3.9/site-packages/sklearn/neural_network/_multilayer_perceptron.py:614: ConvergenceWarning: Stochastic Optimizer: Maximum iterations (50) reached and the optimization hasn't converged yet.\n",
      "  warnings.warn(\n",
      "/Users/dhairyarungta/opt/anaconda3/lib/python3.9/site-packages/sklearn/utils/validation.py:63: DataConversionWarning: A column-vector y was passed when a 1d array was expected. Please change the shape of y to (n_samples, ), for example using ravel().\n",
      "  return f(*args, **kwargs)\n",
      "/Users/dhairyarungta/opt/anaconda3/lib/python3.9/site-packages/sklearn/utils/validation.py:63: DataConversionWarning: A column-vector y was passed when a 1d array was expected. Please change the shape of y to (n_samples, ), for example using ravel().\n",
      "  return f(*args, **kwargs)\n",
      "/Users/dhairyarungta/opt/anaconda3/lib/python3.9/site-packages/sklearn/utils/validation.py:63: DataConversionWarning: A column-vector y was passed when a 1d array was expected. Please change the shape of y to (n_samples, ), for example using ravel().\n",
      "  return f(*args, **kwargs)\n",
      "/Users/dhairyarungta/opt/anaconda3/lib/python3.9/site-packages/sklearn/neural_network/_multilayer_perceptron.py:614: ConvergenceWarning: Stochastic Optimizer: Maximum iterations (50) reached and the optimization hasn't converged yet.\n",
      "  warnings.warn(\n",
      "/Users/dhairyarungta/opt/anaconda3/lib/python3.9/site-packages/sklearn/utils/validation.py:63: DataConversionWarning: A column-vector y was passed when a 1d array was expected. Please change the shape of y to (n_samples, ), for example using ravel().\n",
      "  return f(*args, **kwargs)\n",
      "/Users/dhairyarungta/opt/anaconda3/lib/python3.9/site-packages/sklearn/utils/validation.py:63: DataConversionWarning: A column-vector y was passed when a 1d array was expected. Please change the shape of y to (n_samples, ), for example using ravel().\n",
      "  return f(*args, **kwargs)\n",
      "/Users/dhairyarungta/opt/anaconda3/lib/python3.9/site-packages/sklearn/neural_network/_multilayer_perceptron.py:614: ConvergenceWarning: Stochastic Optimizer: Maximum iterations (50) reached and the optimization hasn't converged yet.\n",
      "  warnings.warn(\n",
      "/Users/dhairyarungta/opt/anaconda3/lib/python3.9/site-packages/sklearn/utils/validation.py:63: DataConversionWarning: A column-vector y was passed when a 1d array was expected. Please change the shape of y to (n_samples, ), for example using ravel().\n",
      "  return f(*args, **kwargs)\n",
      "/Users/dhairyarungta/opt/anaconda3/lib/python3.9/site-packages/sklearn/neural_network/_multilayer_perceptron.py:614: ConvergenceWarning: Stochastic Optimizer: Maximum iterations (50) reached and the optimization hasn't converged yet.\n",
      "  warnings.warn(\n",
      "/Users/dhairyarungta/opt/anaconda3/lib/python3.9/site-packages/sklearn/utils/validation.py:63: DataConversionWarning: A column-vector y was passed when a 1d array was expected. Please change the shape of y to (n_samples, ), for example using ravel().\n",
      "  return f(*args, **kwargs)\n",
      "/Users/dhairyarungta/opt/anaconda3/lib/python3.9/site-packages/sklearn/neural_network/_multilayer_perceptron.py:614: ConvergenceWarning: Stochastic Optimizer: Maximum iterations (50) reached and the optimization hasn't converged yet.\n",
      "  warnings.warn(\n",
      "/Users/dhairyarungta/opt/anaconda3/lib/python3.9/site-packages/sklearn/utils/validation.py:63: DataConversionWarning: A column-vector y was passed when a 1d array was expected. Please change the shape of y to (n_samples, ), for example using ravel().\n",
      "  return f(*args, **kwargs)\n",
      "/Users/dhairyarungta/opt/anaconda3/lib/python3.9/site-packages/sklearn/utils/validation.py:63: DataConversionWarning: A column-vector y was passed when a 1d array was expected. Please change the shape of y to (n_samples, ), for example using ravel().\n",
      "  return f(*args, **kwargs)\n"
     ]
    },
    {
     "name": "stdout",
     "output_type": "stream",
     "text": [
      "{'activation': 'relu', 'hidden_layer_sizes': (150, 100, 50), 'max_iter': 1000}\n"
     ]
    }
   ],
   "source": [
    "grid = GridSearchCV(model, param_grid, n_jobs= -1, cv=5)\n",
    "grid.fit(train_scaled, y_train)\n",
    "print(grid.best_params_) \n",
    "\n",
    "\n"
   ]
  },
  {
   "cell_type": "code",
   "execution_count": 46,
   "id": "8982c8ff",
   "metadata": {},
   "outputs": [
    {
     "name": "stdout",
     "output_type": "stream",
     "text": [
      "{'activation': 'relu', 'hidden_layer_sizes': (150, 100, 50), 'max_iter': 1000}\n"
     ]
    }
   ],
   "source": [
    "print (\"{'activation': 'relu', 'hidden_layer_sizes': (150, 100, 50), 'max_iter': 1000}\")"
   ]
  },
  {
   "cell_type": "code",
   "execution_count": 47,
   "id": "bcc2f535",
   "metadata": {},
   "outputs": [],
   "source": [
    "grid_predictions = grid.predict(test_scaled)"
   ]
  },
  {
   "cell_type": "code",
   "execution_count": 48,
   "id": "8636a0f0",
   "metadata": {
    "scrolled": true
   },
   "outputs": [
    {
     "name": "stdout",
     "output_type": "stream",
     "text": [
      "[ 6.88848359  7.77777951  5.55671384  5.72437303  7.51277023  6.01290566\n",
      "  6.66799482  7.11198291  8.81735294  5.48241003  6.12589906  8.77286141\n",
      "  7.60514197  7.53694825  7.90097757  7.59854447  5.51509672  4.67578054\n",
      "  6.67082717  7.20899307  5.4408765   8.47960422  8.84945018  5.53200896\n",
      "  5.51874767  6.40689583  6.0441597   5.62481633  6.58669067  4.61085489\n",
      "  4.62043416  6.20514901  6.35297157  5.81614057  5.49406464  6.19914133\n",
      "  5.5314139   6.4145817   6.6505922   6.12402801  5.8608662   8.48278266\n",
      "  6.91147881  6.08191419  5.67216354  5.57050304  5.4559966   5.60451969\n",
      "  8.93087474  6.15045249  5.52512128  6.30944691  7.3013715   8.62116318\n",
      "  6.32202094  6.17715607  7.0809232   7.72175697  5.51323185  6.52884459\n",
      "  6.2607936   7.78977401  6.40654099  6.39895988  9.31051844  9.24360749\n",
      "  8.74943736  5.98708742  7.55289226  5.46606599  5.97197814  6.20522911\n",
      "  7.39005076  5.06314347  5.80850965  5.58426603  7.51608907  6.24611068\n",
      "  6.138666    7.3512242   7.03454001  7.71964803  5.9382888   6.29825218\n",
      "  4.69256132  4.7080473   6.44442831  7.57290448  7.68652364  6.04412006\n",
      "  7.1827022   5.88801042  7.78141915  6.25338713  9.01762522  8.72370489\n",
      "  7.24529193  5.477072    6.30205821  6.48025851  6.86323635  6.56747672\n",
      "  6.63036741  7.59503638  6.46363783  8.38563553  8.92958073  5.9648988\n",
      "  5.75190809  6.23576244  9.26515472  8.74417132  6.12498659  4.63944459\n",
      "  5.70308396  7.57394133  8.7144693   5.92120535  5.81600643  6.21509247\n",
      "  8.54353433  5.47431195  9.15516148  8.58396231  6.19466305  7.29230228\n",
      "  6.1711311   7.91850369  5.48142243  5.94043563  5.47524683  4.70576097\n",
      "  4.68984634  6.55512754  6.31862153  5.79030473  8.99883072  6.4107627\n",
      "  9.2224961   6.75447909  5.5939364   5.91889399  6.54667578  6.73229117\n",
      "  5.83070757  6.33786389  6.19373025  6.49107332  4.72073876  4.84562941\n",
      "  8.7572523   4.85703112  8.29821794  8.85038379  5.4768099   8.66145287\n",
      "  8.49727204  5.06823188  6.17738714  6.17743311  9.65133455  5.48107106\n",
      "  4.9174428   6.37166963  6.40242916  5.52899868  5.51295975  5.67047817\n",
      "  5.11381069  6.65084634  5.49512336  7.62502606  5.77875331  6.11106973\n",
      "  6.68348616  4.811694    9.10622793  8.90837949  5.89124083  8.31687647\n",
      "  6.43428156  7.17863274  6.36247143  9.6496516   4.60316301  5.45696133\n",
      "  6.26970941  5.61934292  4.5505812   8.4497952   8.95930571  5.52120018\n",
      "  7.06950397  7.25438851  6.48826669  6.09203911  6.59410533  8.69545494\n",
      "  7.84299153  4.76264811  6.54377326  6.33198986  6.1118176   5.74015781\n",
      "  5.57774117  6.06839447  6.26670277  5.71458218  7.36777022  7.47925604\n",
      "  5.46237059  9.28584673  5.94436685  6.07039312  6.03195773  5.54062602\n",
      "  5.9877435   6.31761307 10.08739668  9.11297713  5.57870715  6.40859345\n",
      "  5.87197946  8.74966807  6.22804813  9.84729964  9.75786578  6.3178445\n",
      "  4.59955864  5.53853955  7.75105308  9.40309262  6.39743531  6.77009368\n",
      "  6.07815848  7.84143283  4.84433004  5.66355849  7.74954395  8.1801783\n",
      "  9.28527926  6.23814381  7.92289968  6.07439996  7.81676739  5.46347283\n",
      "  5.4793901   5.56845875  5.52512138  8.71191368  5.94002451  8.81623747\n",
      "  9.00746263  5.46730494  4.6164863   6.04918905  9.00380803  6.51392569\n",
      "  6.08460246  5.60212716  7.76237373  6.9024717   6.92147916  5.43358435\n",
      "  6.16936847  4.68539619  6.52962623  6.54684734  5.71783327  6.22954565\n",
      "  6.24556808  7.53541673  5.48338712  6.42710552  5.96020647  8.0074427\n",
      "  4.83146554  6.22311593  8.34995061  6.40162681  6.57086746  6.22462715\n",
      "  6.05416167  7.25613949  5.41658329  8.51622887  6.22541916  8.67143525\n",
      "  6.29234208  6.63491707  9.07005537  9.36588583  8.50968087  9.04576753\n",
      "  8.95153959  5.81358852  5.46391953  6.7207361   6.49327167  9.09060482\n",
      "  6.32390552  5.73392884  7.48839709  8.82991801  5.48660268  7.7055352\n",
      "  7.92238367  8.2099378   5.54654973  6.63377821  5.43912414  5.73705817\n",
      "  5.47215553  6.55074824  4.62517354  9.10659023  5.4753335   5.93254249\n",
      "  9.08196545  6.28649475  9.18864812  5.47731207  5.67228153  7.16355059\n",
      "  6.97594354  6.63586817  8.51474933  6.18592454  6.04475277  5.7834053\n",
      "  7.12618101  6.1332663   6.17416705  6.05845248  6.17540553  6.7152654\n",
      "  5.5055459   5.57320349  6.57957694  5.96673379  5.68932226  5.18071103\n",
      "  9.02350618  9.09349852  7.81190642  5.79591017  6.53607144  5.57627576\n",
      "  8.97769782  7.20184031  6.0574949   6.06405068  8.88078684  5.62568103\n",
      "  5.45798493  5.05517165  6.13527001  5.50367568  6.30935706  5.55286931\n",
      "  5.69103264  5.976076    6.30141325  4.59760212  5.489849    8.67979908\n",
      "  4.69976057  5.92506427  8.76792885  6.20836211  4.66022404  5.8973806\n",
      "  9.054826    5.48470382  8.19922369  8.75471057  5.5302095   8.07828477\n",
      "  6.48391557  5.51082644  7.83408989  6.70518539  4.74990517  6.74240393\n",
      "  7.01789174  6.00058152  6.35211705  6.68209152  7.57237071  9.14922665\n",
      "  5.33424576  6.65829556  8.81658262  6.38057926  5.99317693  8.99938305\n",
      "  6.97578236  5.54800481  8.88134447  5.60254277  5.45216959  7.25058037]\n"
     ]
    }
   ],
   "source": [
    "print (grid_predictions)"
   ]
  },
  {
   "cell_type": "code",
   "execution_count": 50,
   "id": "35500017",
   "metadata": {},
   "outputs": [
    {
     "data": {
      "text/html": [
       "<div>\n",
       "<style scoped>\n",
       "    .dataframe tbody tr th:only-of-type {\n",
       "        vertical-align: middle;\n",
       "    }\n",
       "\n",
       "    .dataframe tbody tr th {\n",
       "        vertical-align: top;\n",
       "    }\n",
       "\n",
       "    .dataframe thead th {\n",
       "        text-align: right;\n",
       "    }\n",
       "</style>\n",
       "<table border=\"1\" class=\"dataframe\">\n",
       "  <thead>\n",
       "    <tr style=\"text-align: right;\">\n",
       "      <th></th>\n",
       "      <th>price(USD)</th>\n",
       "    </tr>\n",
       "  </thead>\n",
       "  <tbody>\n",
       "    <tr>\n",
       "      <th>1358</th>\n",
       "      <td>6.812752</td>\n",
       "    </tr>\n",
       "    <tr>\n",
       "      <th>1480</th>\n",
       "      <td>7.592991</td>\n",
       "    </tr>\n",
       "    <tr>\n",
       "      <th>668</th>\n",
       "      <td>5.535443</td>\n",
       "    </tr>\n",
       "    <tr>\n",
       "      <th>593</th>\n",
       "      <td>5.861811</td>\n",
       "    </tr>\n",
       "    <tr>\n",
       "      <th>1558</th>\n",
       "      <td>8.088749</td>\n",
       "    </tr>\n",
       "    <tr>\n",
       "      <th>...</th>\n",
       "      <td>...</td>\n",
       "    </tr>\n",
       "    <tr>\n",
       "      <th>892</th>\n",
       "      <td>5.496102</td>\n",
       "    </tr>\n",
       "    <tr>\n",
       "      <th>1753</th>\n",
       "      <td>9.230878</td>\n",
       "    </tr>\n",
       "    <tr>\n",
       "      <th>916</th>\n",
       "      <td>5.891285</td>\n",
       "    </tr>\n",
       "    <tr>\n",
       "      <th>805</th>\n",
       "      <td>5.663134</td>\n",
       "    </tr>\n",
       "    <tr>\n",
       "      <th>1418</th>\n",
       "      <td>6.884210</td>\n",
       "    </tr>\n",
       "  </tbody>\n",
       "</table>\n",
       "<p>402 rows × 1 columns</p>\n",
       "</div>"
      ],
      "text/plain": [
       "      price(USD)\n",
       "1358    6.812752\n",
       "1480    7.592991\n",
       "668     5.535443\n",
       "593     5.861811\n",
       "1558    8.088749\n",
       "...          ...\n",
       "892     5.496102\n",
       "1753    9.230878\n",
       "916     5.891285\n",
       "805     5.663134\n",
       "1418    6.884210\n",
       "\n",
       "[402 rows x 1 columns]"
      ]
     },
     "execution_count": 50,
     "metadata": {},
     "output_type": "execute_result"
    }
   ],
   "source": [
    "y_test"
   ]
  },
  {
   "cell_type": "code",
   "execution_count": 52,
   "id": "d145f4e6",
   "metadata": {},
   "outputs": [
    {
     "name": "stdout",
     "output_type": "stream",
     "text": [
      "0.2271870274741811\n"
     ]
    }
   ],
   "source": [
    "nn_test_mse = mean_squared_error((y_test), grid_predictions)\n",
    "print(sqrt(nn_test_mse))\n"
   ]
  },
  {
   "cell_type": "markdown",
   "id": "2da99ae7",
   "metadata": {},
   "source": [
    "<p><b>The mean square error lower now althoug it is not as good as the tree based models, there could be multiple reasons for this, like tree based models are much more robust to highly skewed and scaled data as compared to neural networks.</b></p>\n",
    "\n",
    "<p><b>Another possiblilty is that the neural network is analysing a weird pattern that is rather a flase indication, this could be possible as the bitcoin data has not been studied too much and hence the patterns have not been analysed a lot.</b></p>"
   ]
  },
  {
   "cell_type": "code",
   "execution_count": null,
   "id": "ad0280c3",
   "metadata": {},
   "outputs": [],
   "source": []
  }
 ],
 "metadata": {
  "kernelspec": {
   "display_name": "Python 3 (ipykernel)",
   "language": "python",
   "name": "python3"
  },
  "language_info": {
   "codemirror_mode": {
    "name": "ipython",
    "version": 3
   },
   "file_extension": ".py",
   "mimetype": "text/x-python",
   "name": "python",
   "nbconvert_exporter": "python",
   "pygments_lexer": "ipython3",
   "version": "3.9.7"
  }
 },
 "nbformat": 4,
 "nbformat_minor": 5
}
